{
 "cells": [
  {
   "cell_type": "code",
   "execution_count": null,
   "metadata": {},
   "outputs": [],
   "source": [
    "#! aws s3 cp manifest to local "
   ]
  },
  {
   "cell_type": "code",
   "execution_count": 8,
   "metadata": {},
   "outputs": [],
   "source": [
    "import json \n",
    "with open(\"output.manifest\", \"r\") as f:\n",
    "    output = [json.loads(line) for line in f.readlines()]"
   ]
  },
  {
   "cell_type": "code",
   "execution_count": 9,
   "metadata": {},
   "outputs": [
    {
     "data": {
      "text/plain": [
       "{'source-ref': 's3://ships/all/app launch....jpg',\n",
       " 'shipsdetecion': {'image_size': [{'width': 600, 'height': 469, 'depth': 3}],\n",
       "  'annotations': [{'class_id': 0,\n",
       "    'top': 167,\n",
       "    'left': 22,\n",
       "    'height': 209,\n",
       "    'width': 571}]},\n",
       " 'shipsdetecion-metadata': {'objects': [{'confidence': 0}],\n",
       "  'class-map': {'0': 'viking'},\n",
       "  'type': 'groundtruth/object-detection',\n",
       "  'human-annotated': 'yes',\n",
       "  'creation-date': '2022-01-16T12:32:11.208354',\n",
       "  'job-name': 'labeling-job/shipsdetecion'}}"
      ]
     },
     "execution_count": 9,
     "metadata": {},
     "output_type": "execute_result"
    }
   ],
   "source": [
    "output[51]"
   ]
  },
  {
   "cell_type": "code",
   "execution_count": 10,
   "metadata": {},
   "outputs": [],
   "source": [
    "class_manifest = []\n",
    "for elem in output:\n",
    "    class_manifest.append(list(elem['shipsdetecion-metadata']['class-map'].keys())[0])"
   ]
  },
  {
   "cell_type": "code",
   "execution_count": 11,
   "metadata": {},
   "outputs": [
    {
     "data": {
      "text/plain": [
       "'0'"
      ]
     },
     "execution_count": 11,
     "metadata": {},
     "output_type": "execute_result"
    }
   ],
   "source": [
    "class_manifest[0]"
   ]
  },
  {
   "cell_type": "code",
   "execution_count": 12,
   "metadata": {},
   "outputs": [],
   "source": [
    "#list(class_manifest[0])[0]"
   ]
  },
  {
   "cell_type": "code",
   "execution_count": 13,
   "metadata": {},
   "outputs": [
    {
     "data": {
      "text/plain": [
       "Counter({'0': 24, '2': 15, '1': 15})"
      ]
     },
     "execution_count": 13,
     "metadata": {},
     "output_type": "execute_result"
    }
   ],
   "source": [
    "from collections import Counter\n",
    "Counter(class_manifest)"
   ]
  },
  {
   "cell_type": "code",
   "execution_count": 14,
   "metadata": {},
   "outputs": [
    {
     "data": {
      "text/plain": [
       "54"
      ]
     },
     "execution_count": 14,
     "metadata": {},
     "output_type": "execute_result"
    }
   ],
   "source": [
    "len(output)"
   ]
  },
  {
   "cell_type": "code",
   "execution_count": 15,
   "metadata": {},
   "outputs": [],
   "source": [
    "from sklearn.model_selection import train_test_split"
   ]
  },
  {
   "cell_type": "code",
   "execution_count": 16,
   "metadata": {},
   "outputs": [],
   "source": [
    "output_train, output_valid, class_train, class_valid = train_test_split(output, class_manifest, test_size=0.2, random_state=42)"
   ]
  },
  {
   "cell_type": "code",
   "execution_count": 17,
   "metadata": {},
   "outputs": [
    {
     "data": {
      "text/plain": [
       "(43, 11)"
      ]
     },
     "execution_count": 17,
     "metadata": {},
     "output_type": "execute_result"
    }
   ],
   "source": [
    "len(output_train), len(output_valid)"
   ]
  },
  {
   "cell_type": "code",
   "execution_count": 18,
   "metadata": {},
   "outputs": [
    {
     "data": {
      "text/plain": [
       "Counter({'0': 18, '2': 13, '1': 12})"
      ]
     },
     "execution_count": 18,
     "metadata": {},
     "output_type": "execute_result"
    }
   ],
   "source": [
    "Counter(class_train)"
   ]
  },
  {
   "cell_type": "code",
   "execution_count": 19,
   "metadata": {},
   "outputs": [
    {
     "data": {
      "text/plain": [
       "Counter({'2': 2, '1': 3, '0': 6})"
      ]
     },
     "execution_count": 19,
     "metadata": {},
     "output_type": "execute_result"
    }
   ],
   "source": [
    "Counter(class_valid)"
   ]
  },
  {
   "cell_type": "code",
   "execution_count": 20,
   "metadata": {},
   "outputs": [
    {
     "data": {
      "text/plain": [
       "{'source-ref': 's3://ships/all/BIRKA_CARRIER1.jpg',\n",
       " 'shipsdetecion': {'image_size': [{'width': 1600, 'height': 900, 'depth': 3}],\n",
       "  'annotations': [{'class_id': 2,\n",
       "    'top': 316,\n",
       "    'left': 59,\n",
       "    'height': 440,\n",
       "    'width': 1475}]},\n",
       " 'shipsdetecion-metadata': {'objects': [{'confidence': 0}],\n",
       "  'class-map': {'2': 'carrier'},\n",
       "  'type': 'groundtruth/object-detection',\n",
       "  'human-annotated': 'yes',\n",
       "  'creation-date': '2022-01-16T12:36:20.260670',\n",
       "  'job-name': 'labeling-job/shipsdetecion'}}"
      ]
     },
     "execution_count": 20,
     "metadata": {},
     "output_type": "execute_result"
    }
   ],
   "source": [
    "output_train[10]"
   ]
  },
  {
   "cell_type": "code",
   "execution_count": 21,
   "metadata": {},
   "outputs": [
    {
     "data": {
      "text/plain": [
       "'2'"
      ]
     },
     "execution_count": 21,
     "metadata": {},
     "output_type": "execute_result"
    }
   ],
   "source": [
    "class_train[10]"
   ]
  },
  {
   "cell_type": "code",
   "execution_count": 22,
   "metadata": {},
   "outputs": [],
   "source": [
    "with open('output_train.manifest', 'w') as f:\n",
    "    for line in output_train:\n",
    "        f.write(json.dumps(line))\n",
    "        f.write(\"\\n\")"
   ]
  },
  {
   "cell_type": "code",
   "execution_count": 23,
   "metadata": {},
   "outputs": [],
   "source": [
    "with open('output_valid.manifest', 'w') as f:\n",
    "    for line in output_valid:\n",
    "        f.write(json.dumps(line))\n",
    "        f.write(\"\\n\")"
   ]
  },
  {
   "cell_type": "code",
   "execution_count": 24,
   "metadata": {},
   "outputs": [
    {
     "name": "stdout",
     "output_type": "stream",
     "text": [
      "upload: ./output_train.manifest to s3://ships/all/shipsdetecion/manifests/output/train/output_train.manifest\n",
      "upload: ./output_valid.manifest to s3://ships/all/shipsdetecion/manifests/output/valid/output_valid.manifest\n"
     ]
    }
   ],
   "source": [
    "!aws s3  cp output_train.manifest s3://ships/all/shipsdetecion/manifests/output/train/\n",
    "!aws s3  cp output_valid.manifest s3://ships/all/shipsdetecion/manifests/output/valid/"
   ]
  },
  {
   "cell_type": "code",
   "execution_count": 25,
   "metadata": {},
   "outputs": [
    {
     "data": {
      "text/plain": [
       "dict_keys(['source-ref', 'shipsdetecion', 'shipsdetecion-metadata'])"
      ]
     },
     "execution_count": 25,
     "metadata": {},
     "output_type": "execute_result"
    }
   ],
   "source": [
    "output[0].keys()"
   ]
  },
  {
   "cell_type": "markdown",
   "metadata": {},
   "source": [
    "#Training Job"
   ]
  },
  {
   "cell_type": "code",
   "execution_count": 26,
   "metadata": {},
   "outputs": [],
   "source": [
    "import os\n",
    "import boto3\n",
    "import sagemaker"
   ]
  },
  {
   "cell_type": "code",
   "execution_count": 27,
   "metadata": {},
   "outputs": [],
   "source": [
    "role=sagemaker.get_execution_role()\n",
    "region=boto3.Session().region_name\n",
    "s3_client=boto3.client(\"s3\")"
   ]
  },
  {
   "cell_type": "code",
   "execution_count": 28,
   "metadata": {},
   "outputs": [],
   "source": [
    "container=sagemaker.image_uris.retrieve(\"object-detection\", region)"
   ]
  },
  {
   "cell_type": "code",
   "execution_count": 6,
   "metadata": {},
   "outputs": [],
   "source": [
    "from time import gmtime, strftime\n",
    "job_name=f\"siva-object-region-{strftime('%Y-%m-%d-%H-%M-%S',gmtime())}\""
   ]
  },
  {
   "cell_type": "code",
   "execution_count": 7,
   "metadata": {},
   "outputs": [
    {
     "data": {
      "text/plain": [
       "'siva-object-region-2022-01-18-03-08-49'"
      ]
     },
     "execution_count": 7,
     "metadata": {},
     "output_type": "execute_result"
    }
   ],
   "source": [
    "job_name"
   ]
  },
  {
   "cell_type": "code",
   "execution_count": 8,
   "metadata": {},
   "outputs": [],
   "source": [
    "Create_train_params={\n",
    "                      \"TrainingJobName\": job_name,\n",
    "                      \"RoleArn\": role,\n",
    "                      \"AlgorithmSpecification\": {  \n",
    "                                                  \"TrainingImage\": container,\n",
    "                                                  \"TrainingInputMode\": \"Pipe\"\n",
    "                                                 },\n",
    "    \n",
    "                     \"ResourceConfig\":         {     \"InstanceCount\": 1,\n",
    "                                                      \"InstanceType\": \"ml.p2.xlarge\",\n",
    "                                                      \"VolumeSizeInGB\": 5\n",
    "                                                   },  \n",
    "    \n",
    "                     \"StoppingCondition\":       {  \"MaxRuntimeInSeconds\": 3600 },                                          \n",
    "                                               \n",
    "    \n",
    "                     \"HyperParameters\":        { \n",
    "                                                    \"base_network\":\"resnet-50\",\n",
    "                                                    \"early_stopping\":\"false\",\n",
    "                                                    \"early_stopping_min_epochs\":\"10\",\n",
    "                                                    \"early_stopping_patience\":\"5\",\n",
    "                                                    \"early_stopping_tolerance\":\"0.0\",\n",
    "                                                    \"epochs\":\"30\",\n",
    "                                                    \"freeze_layer_pattern\":\"false\",\n",
    "                                                    \"image_shape\":\"300\",\n",
    "                                                    \"label_width\":\"350\",\n",
    "                                                    \"learning_rate\":\"0.001\",\n",
    "                                                    \"lr_scheduler_factor\":\"0.1\",\n",
    "                                                    \"mini_batch_size\":\"5\",\n",
    "                                                    \"momentum\":\"0.9\",\n",
    "                                                    \"nms_threshold\":\"0.45\",\n",
    "                                                    \"num_classes\":\"3\",\n",
    "                                                    \"num_training_samples\":\"43\",\n",
    "                                                    \"optimizer\":\"sgd\",\n",
    "                                                    \"overlap_threshold\":\"0.5\",\n",
    "                                                    \"use_pretrained_model\":\"1\",\n",
    "                                                    \"weight_decay\":\"0.0005\"\n",
    "                                                    },   \n",
    "    \n",
    "                       \"InputDataConfig\": [ \n",
    "                                              { \n",
    "                                                 \"ChannelName\": \"train\",\n",
    "                                                 \"CompressionType\": \"None\",\n",
    "                                                 \"InputMode\": \"Pipe\",\n",
    "                                                 \"RecordWrapperType\": \"RecordIO\",\n",
    "                                                 \"DataSource\": { \n",
    "                                                     \n",
    "                                                       \"S3DataSource\": { \n",
    "\n",
    "                                                               \"S3DataDistributionType\": \"FullyReplicated\",\n",
    "                                                               \"S3DataType\": \"AugmentedManifestFile\",\n",
    "                                                               \"S3Uri\": \"s3://ships/all/shipsdetecion/manifests/output/train/output_train.manifest\",\n",
    "                                                                \"AttributeNames\": [\"source-ref\", \"shipsdetecion\"]\n",
    "                                                                       }\n",
    "                                                               },\n",
    "                                              },\n",
    "                           \n",
    "                           \n",
    "                                              { \n",
    "                                                 \"ChannelName\": \"validation\",\n",
    "                                                  \"CompressionType\": \"None\",\n",
    "                                                 \"InputMode\": \"Pipe\",\n",
    "                                                 \"RecordWrapperType\": \"RecordIO\",\n",
    "                                                 \"DataSource\": { \n",
    "                                                     \n",
    "                                                       \"S3DataSource\": { \n",
    "\n",
    "                                                                \"S3DataDistributionType\": \"FullyReplicated\",\n",
    "                                                                \"S3DataType\": \"AugmentedManifestFile\",\n",
    "                                                               \"S3Uri\": \"s3://ships/all/shipsdetecion/manifests/output/valid/output_valid.manifest\",\n",
    "                                                               \"AttributeNames\": [\"source-ref\", \"shipsdetecion\"]\n",
    "                                                                       }\n",
    "                                                                },\n",
    "                                              },\n",
    "                                        ],\n",
    "                                                   \n",
    "                       \"OutputDataConfig\": { \"S3OutputPath\": \"s3://ships/all/shipsdetecion/manifests/output/outputmodel/\" },                                    \n",
    "                                                            \n",
    "    \n",
    "}"
   ]
  },
  {
   "cell_type": "code",
   "execution_count": 9,
   "metadata": {},
   "outputs": [],
   "source": [
    "client =boto3.client(\"sagemaker\",region_name=region) "
   ]
  },
  {
   "cell_type": "code",
   "execution_count": 10,
   "metadata": {},
   "outputs": [
    {
     "data": {
      "text/plain": [
       "{'TrainingJobArn': 'arn:aws:sagemaker:us-east-1:855737367142:training-job/siva-object-region-2022-01-18-03-08-49',\n",
       " 'ResponseMetadata': {'RequestId': '36040247-ad3c-46de-84ca-de6b111adbf7',\n",
       "  'HTTPStatusCode': 200,\n",
       "  'HTTPHeaders': {'x-amzn-requestid': '36040247-ad3c-46de-84ca-de6b111adbf7',\n",
       "   'content-type': 'application/x-amz-json-1.1',\n",
       "   'content-length': '113',\n",
       "   'date': 'Tue, 18 Jan 2022 03:27:49 GMT'},\n",
       "  'RetryAttempts': 0}}"
      ]
     },
     "execution_count": 10,
     "metadata": {},
     "output_type": "execute_result"
    }
   ],
   "source": [
    "client.create_training_job(**Create_train_params) # Training Job Creation "
   ]
  },
  {
   "cell_type": "code",
   "execution_count": 11,
   "metadata": {},
   "outputs": [
    {
     "name": "stdout",
     "output_type": "stream",
     "text": [
      "InProgress\n",
      "InProgress\n",
      "InProgress\n",
      "InProgress\n",
      "InProgress\n",
      "InProgress\n",
      "InProgress\n",
      "InProgress\n",
      "InProgress\n",
      "Completed\n"
     ]
    }
   ],
   "source": [
    "import time\n",
    "status =client.describe_training_job(TrainingJobName=job_name)['TrainingJobStatus']\n",
    "print(status)\n",
    "while status != \"Completed\" and status != \"Failed\":\n",
    "    time.sleep(60)\n",
    "    status = client.describe_training_job(TrainingJobName=job_name)['TrainingJobStatus']\n",
    "    print(status)"
   ]
  },
  {
   "cell_type": "code",
   "execution_count": 2,
   "metadata": {},
   "outputs": [],
   "source": [
    "import boto3\n",
    "from time import gmtime, strftime"
   ]
  },
  {
   "cell_type": "code",
   "execution_count": 4,
   "metadata": {},
   "outputs": [],
   "source": [
    "job_name=\"siva-object-region-2022-01-18-03-08-49\""
   ]
  },
  {
   "cell_type": "code",
   "execution_count": 6,
   "metadata": {},
   "outputs": [],
   "source": [
    "model_name=f\"siva-imageobject-code\""
   ]
  },
  {
   "cell_type": "code",
   "execution_count": 29,
   "metadata": {},
   "outputs": [],
   "source": [
    "client =boto3.client(\"sagemaker\",region_name=region) "
   ]
  },
  {
   "cell_type": "code",
   "execution_count": 30,
   "metadata": {},
   "outputs": [
    {
     "data": {
      "text/plain": [
       "'s3://ships/all/shipsdetecion/manifests/output/outputmodel/siva-object-region-2022-01-18-03-08-49/output/model.tar.gz'"
      ]
     },
     "execution_count": 30,
     "metadata": {},
     "output_type": "execute_result"
    }
   ],
   "source": [
    "model_loc=client.describe_training_job(TrainingJobName=job_name)['ModelArtifacts']['S3ModelArtifacts']\n",
    "model_loc"
   ]
  },
  {
   "cell_type": "code",
   "execution_count": 31,
   "metadata": {},
   "outputs": [
    {
     "data": {
      "text/plain": [
       "'811284229777.dkr.ecr.us-east-1.amazonaws.com/object-detection:1'"
      ]
     },
     "execution_count": 31,
     "metadata": {},
     "output_type": "execute_result"
    }
   ],
   "source": [
    "image=client.describe_training_job(TrainingJobName=job_name)['AlgorithmSpecification']['TrainingImage']\n",
    "image"
   ]
  },
  {
   "cell_type": "code",
   "execution_count": 32,
   "metadata": {},
   "outputs": [
    {
     "name": "stdout",
     "output_type": "stream",
     "text": [
      "arn:aws:sagemaker:us-east-1:855737367142:model/siva-imageobject-code\n"
     ]
    }
   ],
   "source": [
    "create_model_response=client.create_model(\n",
    "ModelName=model_name, ExecutionRoleArn=role, PrimaryContainer={\"Image\":image, \"ModelDataUrl\":model_loc}\n",
    "    \n",
    ")\n",
    "print(create_model_response[\"ModelArn\"])"
   ]
  },
  {
   "cell_type": "code",
   "execution_count": 33,
   "metadata": {},
   "outputs": [],
   "source": [
    "## 2 Create Endpoint Configuration \n",
    "endpoint_config_name=\"siva-config-code-object\""
   ]
  },
  {
   "cell_type": "code",
   "execution_count": 34,
   "metadata": {},
   "outputs": [],
   "source": [
    "create_endp_con_resp=client.create_endpoint_config(\n",
    "            EndpointConfigName=endpoint_config_name,\n",
    "             ProductionVariants=[{\n",
    "            \"VariantName\": \"AllTraffic\",\n",
    "            \"ModelName\": model_name,\n",
    "            \"InitialInstanceCount\": 1,\n",
    "            \"InitialVariantWeight\": 1,\n",
    "            \"InstanceType\": \"ml.p2.xlarge\"\n",
    "                           \n",
    "        }],\n",
    ")"
   ]
  },
  {
   "cell_type": "code",
   "execution_count": 35,
   "metadata": {},
   "outputs": [
    {
     "data": {
      "text/plain": [
       "'arn:aws:sagemaker:us-east-1:855737367142:endpoint-config/siva-config-code-object'"
      ]
     },
     "execution_count": 35,
     "metadata": {},
     "output_type": "execute_result"
    }
   ],
   "source": [
    "create_endp_con_resp[\"EndpointConfigArn\"]"
   ]
  },
  {
   "cell_type": "code",
   "execution_count": 36,
   "metadata": {},
   "outputs": [
    {
     "data": {
      "text/plain": [
       "'arn:aws:sagemaker:us-east-1:855737367142:endpoint/siva-endp-code'"
      ]
     },
     "execution_count": 36,
     "metadata": {},
     "output_type": "execute_result"
    }
   ],
   "source": [
    "endp_name=\"siva-endp-code\"\n",
    "create_endp_resp=client.create_endpoint(\n",
    "EndpointName=endp_name, EndpointConfigName= endpoint_config_name\n",
    ")\n",
    "create_endp_resp[\"EndpointArn\"]"
   ]
  },
  {
   "cell_type": "code",
   "execution_count": 37,
   "metadata": {},
   "outputs": [
    {
     "name": "stdout",
     "output_type": "stream",
     "text": [
      "Creating\n",
      "Creating\n",
      "Creating\n",
      "Creating\n",
      "Creating\n",
      "Creating\n",
      "InService\n"
     ]
    }
   ],
   "source": [
    "import time\n",
    "status =client.describe_endpoint(EndpointName=endp_name)['EndpointStatus']\n",
    "print(status)\n",
    "while status != \"Completed\" and status != \"InService\":\n",
    "    time.sleep(60)\n",
    "    status = client.describe_endpoint(EndpointName=endp_name)['EndpointStatus']\n",
    "    print(status)"
   ]
  },
  {
   "cell_type": "code",
   "execution_count": 38,
   "metadata": {},
   "outputs": [],
   "source": [
    "with open(\"GASELYS.jpg\", \"rb\") as f:\n",
    "    payload = f.read()\n",
    "    payload = bytearray(payload)"
   ]
  },
  {
   "cell_type": "code",
   "execution_count": 40,
   "metadata": {},
   "outputs": [],
   "source": [
    "runtime_client=boto3.client('runtime.sagemaker')"
   ]
  },
  {
   "cell_type": "code",
   "execution_count": 47,
   "metadata": {},
   "outputs": [],
   "source": [
    "response=runtime_client.invoke_endpoint(\n",
    "        EndpointName=endp_name, ContentType=\"application/x-image\", Body=payload\n",
    "    )"
   ]
  },
  {
   "cell_type": "code",
   "execution_count": 48,
   "metadata": {},
   "outputs": [],
   "source": [
    "img_resp = response['Body'].read()"
   ]
  },
  {
   "cell_type": "code",
   "execution_count": 54,
   "metadata": {},
   "outputs": [],
   "source": [
    "img_resp = json.loads(img_resp)"
   ]
  },
  {
   "cell_type": "code",
   "execution_count": 61,
   "metadata": {},
   "outputs": [
    {
     "data": {
      "text/plain": [
       "180"
      ]
     },
     "execution_count": 61,
     "metadata": {},
     "output_type": "execute_result"
    }
   ],
   "source": [
    "len(img_resp['prediction'])"
   ]
  },
  {
   "cell_type": "code",
   "execution_count": 109,
   "metadata": {},
   "outputs": [],
   "source": [
    "class_id, confidence, xmin, ymin, xmax, ymax = img_resp['prediction'][1]"
   ]
  },
  {
   "cell_type": "code",
   "execution_count": 75,
   "metadata": {},
   "outputs": [
    {
     "name": "stdout",
     "output_type": "stream",
     "text": [
      "/opt/conda/lib/python3.7/site-packages/secretstorage/dhcrypto.py:16: CryptographyDeprecationWarning: int_from_bytes is deprecated, use int.from_bytes instead\n",
      "  from cryptography.utils import int_from_bytes\n",
      "/opt/conda/lib/python3.7/site-packages/secretstorage/util.py:25: CryptographyDeprecationWarning: int_from_bytes is deprecated, use int.from_bytes instead\n",
      "  from cryptography.utils import int_from_bytes\n",
      "\u001b[33mWARNING: Running pip as the 'root' user can result in broken permissions and conflicting behaviour with the system package manager. It is recommended to use a virtual environment instead: https://pip.pypa.io/warnings/venv\u001b[0m\n"
     ]
    }
   ],
   "source": [
    "!pip install opencv-python -q"
   ]
  },
  {
   "cell_type": "code",
   "execution_count": 82,
   "metadata": {},
   "outputs": [],
   "source": [
    "#!apt-get update && apt-get install libgl1-mesa-glx -y"
   ]
  },
  {
   "cell_type": "code",
   "execution_count": 110,
   "metadata": {},
   "outputs": [],
   "source": [
    "import cv2\n",
    "import matplotlib.pyplot as plt"
   ]
  },
  {
   "cell_type": "code",
   "execution_count": 111,
   "metadata": {},
   "outputs": [],
   "source": [
    "img = cv2.imread(\"GASELYS.jpg\")"
   ]
  },
  {
   "cell_type": "code",
   "execution_count": 112,
   "metadata": {},
   "outputs": [
    {
     "data": {
      "text/plain": [
       "<matplotlib.image.AxesImage at 0x7f4d093b5910>"
      ]
     },
     "execution_count": 112,
     "metadata": {},
     "output_type": "execute_result"
    },
    {
     "data": {
      "image/png": "[encoded data removed]",
      "text/plain": [
       "<Figure size 432x288 with 1 Axes>"
      ]
     },
     "metadata": {
      "needs_background": "light"
     },
     "output_type": "display_data"
    }
   ],
   "source": [
    "plt.imshow(img)"
   ]
  },
  {
   "cell_type": "code",
   "execution_count": 113,
   "metadata": {},
   "outputs": [
    {
     "data": {
      "text/plain": [
       "(0.9672579765319824,\n",
       " 0.019490987062454224,\n",
       " 0.9605323076248169,\n",
       " 0.037270963191986084)"
      ]
     },
     "execution_count": 113,
     "metadata": {},
     "output_type": "execute_result"
    }
   ],
   "source": [
    "xmax, xmin, ymax, ymin"
   ]
  },
  {
   "cell_type": "code",
   "execution_count": 114,
   "metadata": {},
   "outputs": [
    {
     "data": {
      "text/plain": [
       "(563, 800, 3)"
      ]
     },
     "execution_count": 114,
     "metadata": {},
     "output_type": "execute_result"
    }
   ],
   "source": [
    "img_shape = img.shape\n",
    "img_shape"
   ]
  },
  {
   "cell_type": "code",
   "execution_count": 115,
   "metadata": {},
   "outputs": [],
   "source": [
    "top = int(xmin * img_shape[1])\n",
    "left = int(ymin * img_shape[0])\n",
    "height = int((ymax - ymin) * img_shape[0])\n",
    "width = int((xmax - xmin) * img_shape[1])"
   ]
  },
  {
   "cell_type": "code",
   "execution_count": 116,
   "metadata": {},
   "outputs": [
    {
     "data": {
      "text/plain": [
       "array([[[112,  96,  83],\n",
       "        [118, 102,  89],\n",
       "        [120, 104,  91],\n",
       "        ...,\n",
       "        [137, 124, 110],\n",
       "        [134, 121, 107],\n",
       "        [128, 115, 101]],\n",
       "\n",
       "       [[120, 104,  91],\n",
       "        [125, 109,  96],\n",
       "        [128, 112,  99],\n",
       "        ...,\n",
       "        [146, 133, 119],\n",
       "        [143, 130, 116],\n",
       "        [137, 124, 110]],\n",
       "\n",
       "       [[119, 103,  90],\n",
       "        [125, 109,  96],\n",
       "        [128, 112,  99],\n",
       "        ...,\n",
       "        [147, 134, 120],\n",
       "        [144, 131, 117],\n",
       "        [137, 124, 110]],\n",
       "\n",
       "       ...,\n",
       "\n",
       "       [[ 60,  51,  41],\n",
       "        [ 64,  55,  41],\n",
       "        [ 71,  57,  38],\n",
       "        ...,\n",
       "        [ 78,  58,  40],\n",
       "        [ 75,  55,  37],\n",
       "        [ 75,  54,  33]],\n",
       "\n",
       "       [[ 59,  46,  32],\n",
       "        [ 61,  48,  34],\n",
       "        [ 63,  50,  36],\n",
       "        ...,\n",
       "        [ 92,  72,  54],\n",
       "        [ 95,  71,  51],\n",
       "        [ 93,  69,  49]],\n",
       "\n",
       "       [[ 51,  38,  24],\n",
       "        [ 54,  41,  27],\n",
       "        [ 56,  43,  29],\n",
       "        ...,\n",
       "        [ 78,  58,  40],\n",
       "        [ 82,  58,  38],\n",
       "        [ 81,  57,  37]]], dtype=uint8)"
      ]
     },
     "execution_count": 116,
     "metadata": {},
     "output_type": "execute_result"
    }
   ],
   "source": [
    "cv2.rectangle(img, (left, top), (left+width, top+height), (255,0,0), 2)"
   ]
  },
  {
   "cell_type": "code",
   "execution_count": 117,
   "metadata": {},
   "outputs": [
    {
     "data": {
      "text/plain": [
       "<matplotlib.image.AxesImage at 0x7f4d093a78d0>"
      ]
     },
     "execution_count": 117,
     "metadata": {},
     "output_type": "execute_result"
    },
    {
     "data": {
      "image/png": "[encoded data removed]",
      "text/plain": [
       "<Figure size 432x288 with 1 Axes>"
      ]
     },
     "metadata": {
      "needs_background": "light"
     },
     "output_type": "display_data"
    }
   ],
   "source": [
    "plt.imshow(img)"
   ]
  },
  {
   "cell_type": "code",
   "execution_count": null,
   "metadata": {},
   "outputs": [],
   "source": []
  }
 ],
 "metadata": {
  "instance_type": "ml.m5.large",
  "kernelspec": {
   "display_name": "Python 3 (Data Science)",
   "language": "python",
   "name": "python3__SAGEMAKER_INTERNAL__arn:aws:sagemaker:us-east-1:081325390199:image/datascience-1.0"
  },
  "language_info": {
   "codemirror_mode": {
    "name": "ipython",
    "version": 3
   },
   "file_extension": ".py",
   "mimetype": "text/x-python",
   "name": "python",
   "nbconvert_exporter": "python",
   "pygments_lexer": "ipython3",
   "version": "3.7.10"
  }
 },
 "nbformat": 4,
 "nbformat_minor": 4
}
