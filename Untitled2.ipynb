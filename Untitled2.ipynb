{
 "cells": [
  {
   "cell_type": "code",
   "execution_count": null,
   "metadata": {},
   "outputs": [],
   "source": [
    "#! aws s3 cp manifest to local "
   ]
  },
  {
   "cell_type": "code",
   "execution_count": 5,
   "metadata": {},
   "outputs": [],
   "source": [
    "import json \n",
    "with open(\"output.manifest\", \"r\") as f:\n",
    "    output = [json.loads(line) for line in f.readlines()]"
   ]
  },
  {
   "cell_type": "code",
   "execution_count": 47,
   "metadata": {},
   "outputs": [
    {
     "data": {
      "text/plain": [
       "{'source-ref': 's3://ships/all/app launch....jpg',\n",
       " 'shipsdetecion': {'image_size': [{'width': 600, 'height': 469, 'depth': 3}],\n",
       "  'annotations': [{'class_id': 0,\n",
       "    'top': 167,\n",
       "    'left': 22,\n",
       "    'height': 209,\n",
       "    'width': 571}]},\n",
       " 'shipsdetecion-metadata': {'objects': [{'confidence': 0}],\n",
       "  'class-map': {'0': 'viking'},\n",
       "  'type': 'groundtruth/object-detection',\n",
       "  'human-annotated': 'yes',\n",
       "  'creation-date': '2022-01-16T12:32:11.208354',\n",
       "  'job-name': 'labeling-job/shipsdetecion'}}"
      ]
     },
     "execution_count": 47,
     "metadata": {},
     "output_type": "execute_result"
    }
   ],
   "source": [
    "output[51]"
   ]
  },
  {
   "cell_type": "code",
   "execution_count": 27,
   "metadata": {},
   "outputs": [],
   "source": [
    "class_manifest = []\n",
    "for elem in output:\n",
    "    class_manifest.append(list(elem['shipsdetecion-metadata']['class-map'].keys())[0])"
   ]
  },
  {
   "cell_type": "code",
   "execution_count": 28,
   "metadata": {},
   "outputs": [
    {
     "data": {
      "text/plain": [
       "'0'"
      ]
     },
     "execution_count": 28,
     "metadata": {},
     "output_type": "execute_result"
    }
   ],
   "source": [
    "class_manifest[0]"
   ]
  },
  {
   "cell_type": "code",
   "execution_count": 24,
   "metadata": {},
   "outputs": [
    {
     "data": {
      "text/plain": [
       "'0'"
      ]
     },
     "execution_count": 24,
     "metadata": {},
     "output_type": "execute_result"
    }
   ],
   "source": [
    "#list(class_manifest[0])[0]"
   ]
  },
  {
   "cell_type": "code",
   "execution_count": 29,
   "metadata": {},
   "outputs": [
    {
     "data": {
      "text/plain": [
       "Counter({'0': 24, '2': 15, '1': 15})"
      ]
     },
     "execution_count": 29,
     "metadata": {},
     "output_type": "execute_result"
    }
   ],
   "source": [
    "from collections import Counter\n",
    "Counter(class_manifest)"
   ]
  },
  {
   "cell_type": "code",
   "execution_count": 8,
   "metadata": {},
   "outputs": [
    {
     "data": {
      "text/plain": [
       "54"
      ]
     },
     "execution_count": 8,
     "metadata": {},
     "output_type": "execute_result"
    }
   ],
   "source": [
    "len(output)"
   ]
  },
  {
   "cell_type": "code",
   "execution_count": 9,
   "metadata": {},
   "outputs": [],
   "source": [
    "from sklearn.model_selection import train_test_split"
   ]
  },
  {
   "cell_type": "code",
   "execution_count": 31,
   "metadata": {},
   "outputs": [],
   "source": [
    "output_train, output_valid, class_train, class_valid = train_test_split(output, class_manifest, test_size=0.2, random_state=42)"
   ]
  },
  {
   "cell_type": "code",
   "execution_count": 33,
   "metadata": {},
   "outputs": [
    {
     "data": {
      "text/plain": [
       "(43, 11)"
      ]
     },
     "execution_count": 33,
     "metadata": {},
     "output_type": "execute_result"
    }
   ],
   "source": [
    "len(output_train), len(output_valid)"
   ]
  },
  {
   "cell_type": "code",
   "execution_count": 34,
   "metadata": {},
   "outputs": [
    {
     "data": {
      "text/plain": [
       "Counter({'0': 18, '2': 13, '1': 12})"
      ]
     },
     "execution_count": 34,
     "metadata": {},
     "output_type": "execute_result"
    }
   ],
   "source": [
    "Counter(class_train)"
   ]
  },
  {
   "cell_type": "code",
   "execution_count": 35,
   "metadata": {},
   "outputs": [
    {
     "data": {
      "text/plain": [
       "Counter({'2': 2, '1': 3, '0': 6})"
      ]
     },
     "execution_count": 35,
     "metadata": {},
     "output_type": "execute_result"
    }
   ],
   "source": [
    "Counter(class_valid)"
   ]
  },
  {
   "cell_type": "code",
   "execution_count": 41,
   "metadata": {},
   "outputs": [
    {
     "data": {
      "text/plain": [
       "{'source-ref': 's3://ships/all/BIRKA_CARRIER1.jpg',\n",
       " 'shipsdetecion': {'image_size': [{'width': 1600, 'height': 900, 'depth': 3}],\n",
       "  'annotations': [{'class_id': 2,\n",
       "    'top': 316,\n",
       "    'left': 59,\n",
       "    'height': 440,\n",
       "    'width': 1475}]},\n",
       " 'shipsdetecion-metadata': {'objects': [{'confidence': 0}],\n",
       "  'class-map': {'2': 'carrier'},\n",
       "  'type': 'groundtruth/object-detection',\n",
       "  'human-annotated': 'yes',\n",
       "  'creation-date': '2022-01-16T12:36:20.260670',\n",
       "  'job-name': 'labeling-job/shipsdetecion'}}"
      ]
     },
     "execution_count": 41,
     "metadata": {},
     "output_type": "execute_result"
    }
   ],
   "source": [
    "output_train[10]"
   ]
  },
  {
   "cell_type": "code",
   "execution_count": 40,
   "metadata": {},
   "outputs": [
    {
     "data": {
      "text/plain": [
       "'2'"
      ]
     },
     "execution_count": 40,
     "metadata": {},
     "output_type": "execute_result"
    }
   ],
   "source": [
    "class_train[10]"
   ]
  },
  {
   "cell_type": "code",
   "execution_count": 42,
   "metadata": {},
   "outputs": [],
   "source": [
    "with open('output_train.manifest', 'w') as f:\n",
    "    for line in output_train:\n",
    "        f.write(json.dumps(line))\n",
    "        f.write(\"\\n\")"
   ]
  },
  {
   "cell_type": "code",
   "execution_count": 43,
   "metadata": {},
   "outputs": [],
   "source": [
    "with open('output_valid.manifest', 'w') as f:\n",
    "    for line in output_valid:\n",
    "        f.write(json.dumps(line))\n",
    "        f.write(\"\\n\")"
   ]
  },
  {
   "cell_type": "code",
   "execution_count": 44,
   "metadata": {},
   "outputs": [
    {
     "name": "stdout",
     "output_type": "stream",
     "text": [
      "upload: ./output_train.manifest to s3://ships/all/shipsdetecion/manifests/output/train/output_train.manifest\n",
      "upload: ./output_valid.manifest to s3://ships/all/shipsdetecion/manifests/output/valid/output_valid.manifest\n"
     ]
    }
   ],
   "source": [
    "!aws s3  cp output_train.manifest s3://ships/all/shipsdetecion/manifests/output/train/\n",
    "!aws s3  cp output_valid.manifest s3://ships/all/shipsdetecion/manifests/output/valid/"
   ]
  },
  {
   "cell_type": "code",
   "execution_count": 46,
   "metadata": {},
   "outputs": [
    {
     "data": {
      "text/plain": [
       "dict_keys(['source-ref', 'shipsdetecion', 'shipsdetecion-metadata'])"
      ]
     },
     "execution_count": 46,
     "metadata": {},
     "output_type": "execute_result"
    }
   ],
   "source": [
    "output[0].keys()"
   ]
  },
  {
   "cell_type": "markdown",
   "metadata": {},
   "source": [
    "#Training Job"
   ]
  },
  {
   "cell_type": "code",
   "execution_count": 2,
   "metadata": {},
   "outputs": [],
   "source": [
    "import os\n",
    "import boto3\n",
    "import sagemaker"
   ]
  },
  {
   "cell_type": "code",
   "execution_count": 4,
   "metadata": {},
   "outputs": [],
   "source": [
    "role=sagemaker.get_execution_role()\n",
    "region=boto3.Session().region_name\n",
    "s3_client=boto3.client(\"s3\")"
   ]
  },
  {
   "cell_type": "code",
   "execution_count": 5,
   "metadata": {},
   "outputs": [],
   "source": [
    "container=sagemaker.image_uris.retrieve(\"object-detection\", region)"
   ]
  },
  {
   "cell_type": "code",
   "execution_count": 6,
   "metadata": {},
   "outputs": [],
   "source": [
    "from time import gmtime, strftime\n",
    "job_name=f\"siva-object-region-{strftime('%Y-%m-%d-%H-%M-%S',gmtime())}\""
   ]
  },
  {
   "cell_type": "code",
   "execution_count": 7,
   "metadata": {},
   "outputs": [
    {
     "data": {
      "text/plain": [
       "'siva-object-region-2022-01-18-03-08-49'"
      ]
     },
     "execution_count": 7,
     "metadata": {},
     "output_type": "execute_result"
    }
   ],
   "source": [
    "job_name"
   ]
  },
  {
   "cell_type": "code",
   "execution_count": 8,
   "metadata": {},
   "outputs": [],
   "source": [
    "Create_train_params={\n",
    "                      \"TrainingJobName\": job_name,\n",
    "                      \"RoleArn\": role,\n",
    "                      \"AlgorithmSpecification\": {  \n",
    "                                                  \"TrainingImage\": container,\n",
    "                                                  \"TrainingInputMode\": \"Pipe\"\n",
    "                                                 },\n",
    "    \n",
    "                     \"ResourceConfig\":         {     \"InstanceCount\": 1,\n",
    "                                                      \"InstanceType\": \"ml.p2.xlarge\",\n",
    "                                                      \"VolumeSizeInGB\": 5\n",
    "                                                   },  \n",
    "    \n",
    "                     \"StoppingCondition\":       {  \"MaxRuntimeInSeconds\": 3600 },                                          \n",
    "                                               \n",
    "    \n",
    "                     \"HyperParameters\":        { \n",
    "                                                    \"base_network\":\"resnet-50\",\n",
    "                                                    \"early_stopping\":\"false\",\n",
    "                                                    \"early_stopping_min_epochs\":\"10\",\n",
    "                                                    \"early_stopping_patience\":\"5\",\n",
    "                                                    \"early_stopping_tolerance\":\"0.0\",\n",
    "                                                    \"epochs\":\"30\",\n",
    "                                                    \"freeze_layer_pattern\":\"false\",\n",
    "                                                    \"image_shape\":\"300\",\n",
    "                                                    \"label_width\":\"350\",\n",
    "                                                    \"learning_rate\":\"0.001\",\n",
    "                                                    \"lr_scheduler_factor\":\"0.1\",\n",
    "                                                    \"mini_batch_size\":\"5\",\n",
    "                                                    \"momentum\":\"0.9\",\n",
    "                                                    \"nms_threshold\":\"0.45\",\n",
    "                                                    \"num_classes\":\"3\",\n",
    "                                                    \"num_training_samples\":\"43\",\n",
    "                                                    \"optimizer\":\"sgd\",\n",
    "                                                    \"overlap_threshold\":\"0.5\",\n",
    "                                                    \"use_pretrained_model\":\"1\",\n",
    "                                                    \"weight_decay\":\"0.0005\"\n",
    "                                                    },   \n",
    "    \n",
    "                       \"InputDataConfig\": [ \n",
    "                                              { \n",
    "                                                 \"ChannelName\": \"train\",\n",
    "                                                 \"CompressionType\": \"None\",\n",
    "                                                 \"InputMode\": \"Pipe\",\n",
    "                                                 \"RecordWrapperType\": \"RecordIO\",\n",
    "                                                 \"DataSource\": { \n",
    "                                                     \n",
    "                                                       \"S3DataSource\": { \n",
    "\n",
    "                                                               \"S3DataDistributionType\": \"FullyReplicated\",\n",
    "                                                               \"S3DataType\": \"AugmentedManifestFile\",\n",
    "                                                               \"S3Uri\": \"s3://ships/all/shipsdetecion/manifests/output/train/output_train.manifest\",\n",
    "                                                                \"AttributeNames\": [\"source-ref\", \"shipsdetecion\"]\n",
    "                                                                       }\n",
    "                                                               },\n",
    "                                              },\n",
    "                           \n",
    "                           \n",
    "                                              { \n",
    "                                                 \"ChannelName\": \"validation\",\n",
    "                                                  \"CompressionType\": \"None\",\n",
    "                                                 \"InputMode\": \"Pipe\",\n",
    "                                                 \"RecordWrapperType\": \"RecordIO\",\n",
    "                                                 \"DataSource\": { \n",
    "                                                     \n",
    "                                                       \"S3DataSource\": { \n",
    "\n",
    "                                                                \"S3DataDistributionType\": \"FullyReplicated\",\n",
    "                                                                \"S3DataType\": \"AugmentedManifestFile\",\n",
    "                                                               \"S3Uri\": \"s3://ships/all/shipsdetecion/manifests/output/valid/output_valid.manifest\",\n",
    "                                                               \"AttributeNames\": [\"source-ref\", \"shipsdetecion\"]\n",
    "                                                                       }\n",
    "                                                                },\n",
    "                                              },\n",
    "                                        ],\n",
    "                                                   \n",
    "                       \"OutputDataConfig\": { \"S3OutputPath\": \"s3://ships/all/shipsdetecion/manifests/output/outputmodel/\" },                                    \n",
    "                                                            \n",
    "    \n",
    "}"
   ]
  },
  {
   "cell_type": "code",
   "execution_count": 9,
   "metadata": {},
   "outputs": [],
   "source": [
    "client =boto3.client(\"sagemaker\",region_name=region) "
   ]
  },
  {
   "cell_type": "code",
   "execution_count": 10,
   "metadata": {},
   "outputs": [
    {
     "data": {
      "text/plain": [
       "{'TrainingJobArn': 'arn:aws:sagemaker:us-east-1:855737367142:training-job/siva-object-region-2022-01-18-03-08-49',\n",
       " 'ResponseMetadata': {'RequestId': '36040247-ad3c-46de-84ca-de6b111adbf7',\n",
       "  'HTTPStatusCode': 200,\n",
       "  'HTTPHeaders': {'x-amzn-requestid': '36040247-ad3c-46de-84ca-de6b111adbf7',\n",
       "   'content-type': 'application/x-amz-json-1.1',\n",
       "   'content-length': '113',\n",
       "   'date': 'Tue, 18 Jan 2022 03:27:49 GMT'},\n",
       "  'RetryAttempts': 0}}"
      ]
     },
     "execution_count": 10,
     "metadata": {},
     "output_type": "execute_result"
    }
   ],
   "source": [
    "client.create_training_job(**Create_train_params) # Training Job Creation "
   ]
  },
  {
   "cell_type": "code",
   "execution_count": null,
   "metadata": {},
   "outputs": [
    {
     "name": "stdout",
     "output_type": "stream",
     "text": [
      "InProgress\n"
     ]
    }
   ],
   "source": [
    "import time\n",
    "status =client.describe_training_job(TrainingJobName=job_name)['TrainingJobStatus']\n",
    "print(status)\n",
    "while status != \"Completed\" and status != \"Failed\":\n",
    "    time.sleep(60)\n",
    "    status = client.describe_training_job(TrainingJobName=job_name)['TrainingJobStatus']\n",
    "    print(status)"
   ]
  },
  {
   "cell_type": "code",
   "execution_count": null,
   "metadata": {},
   "outputs": [],
   "source": []
  }
 ],
 "metadata": {
  "instance_type": "ml.m5.large",
  "kernelspec": {
   "display_name": "Python 3 (Data Science)",
   "language": "python",
   "name": "python3__SAGEMAKER_INTERNAL__arn:aws:sagemaker:us-east-1:081325390199:image/datascience-1.0"
  },
  "language_info": {
   "codemirror_mode": {
    "name": "ipython",
    "version": 3
   },
   "file_extension": ".py",
   "mimetype": "text/x-python",
   "name": "python",
   "nbconvert_exporter": "python",
   "pygments_lexer": "ipython3",
   "version": "3.7.10"
  }
 },
 "nbformat": 4,
 "nbformat_minor": 4
}
