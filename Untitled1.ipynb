{
 "cells": [
  {
   "cell_type": "code",
   "execution_count": 2,
   "metadata": {},
   "outputs": [
    {
     "name": "stdout",
     "output_type": "stream",
     "text": [
      "Overwriting lambda_function.py\n"
     ]
    }
   ],
   "source": [
    "%%writefile lambda_function.py\n",
    "import json \n",
    "def lambda_handler(event, context)\n",
    "     return{\n",
    "         'statuscode':200,\n",
    "         'body':json.dumps(\"Hello from Lambda\")\n",
    "         \n",
    "     }"
   ]
  },
  {
   "cell_type": "code",
   "execution_count": 11,
   "metadata": {},
   "outputs": [],
   "source": [
    "import boto3\n",
    "from sagemaker import get_execution_role\n",
    "from zipfile import ZipFile\n",
    "\n",
    "role=get_execution_role()\n",
    "client=boto3.client('lambda')\n",
    "with ZipFile('code.zip', 'w') as f:\n",
    "      f.write('lambda_function.py')\n",
    "with open ('code.zip', 'rb') as f:\n",
    "     b_code=f.read()\n",
    "response=client.create_function(\n",
    "        FunctionName='botoLambdaFunction',\n",
    "        Runtime='python3.9',\n",
    "        Handler='lambda_function.lambda_handler',\n",
    "        Code={\n",
    "            'ZipFile': b_code\n",
    "        },\n",
    "        \n",
    "        Description='string',\n",
    "        Timeout=30,\n",
    "        MemorySize=1024,\n",
    "        Publish=True,\n",
    "        PackageType='Zip',\n",
    "        #Role='arn:aws:iam::855737367142:role/lambda_full_access'\n",
    "        Role=\"arn:aws:iam::855737367142:role/execution_role\" #'arn:aws:iam::855737367142:role/lambda_full_access'\n",
    "      \n",
    "\n",
    ")\n"
   ]
  },
  {
   "cell_type": "code",
   "execution_count": 5,
   "metadata": {},
   "outputs": [
    {
     "data": {
      "text/plain": [
       "'arn:aws:iam::855737367142:role/service-role/AmazonSageMaker-ExecutionRole-20211215T123396'"
      ]
     },
     "execution_count": 5,
     "metadata": {},
     "output_type": "execute_result"
    }
   ],
   "source": [
    "role"
   ]
  },
  {
   "cell_type": "code",
   "execution_count": null,
   "metadata": {},
   "outputs": [],
   "source": []
  },
  {
   "cell_type": "code",
   "execution_count": null,
   "metadata": {},
   "outputs": [],
   "source": []
  }
 ],
 "metadata": {
  "instance_type": "ml.t3.medium",
  "kernelspec": {
   "display_name": "Python 3 (Data Science)",
   "language": "python",
   "name": "python3__SAGEMAKER_INTERNAL__arn:aws:sagemaker:us-east-1:081325390199:image/datascience-1.0"
  },
  "language_info": {
   "codemirror_mode": {
    "name": "ipython",
    "version": 3
   },
   "file_extension": ".py",
   "mimetype": "text/x-python",
   "name": "python",
   "nbconvert_exporter": "python",
   "pygments_lexer": "ipython3",
   "version": "3.7.10"
  }
 },
 "nbformat": 4,
 "nbformat_minor": 4
}
